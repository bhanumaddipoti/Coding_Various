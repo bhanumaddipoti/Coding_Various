{
 "cells": [
  {
   "cell_type": "markdown",
   "id": "46c8438d-fde0-4bf9-a073-53a00929764c",
   "metadata": {},
   "source": [
    "# Indexing"
   ]
  },
  {
   "cell_type": "code",
   "execution_count": 3,
   "id": "86990665-9c8e-4abb-8b39-7e0f592ad9ca",
   "metadata": {},
   "outputs": [],
   "source": [
    "import pandas as pd"
   ]
  },
  {
   "cell_type": "code",
   "execution_count": 5,
   "id": "406d1723-2b3e-4495-9342-0793a153d7e0",
   "metadata": {},
   "outputs": [],
   "source": [
    "df1 = pd.read_csv (r\"C:\\Users\\bhanu\\iCloudDrive\\Documents\\Alex the Analyst Course\\Pandas\\Data\\world_population.csv\")"
   ]
  },
  {
   "cell_type": "code",
   "execution_count": null,
   "id": "3026e180-8301-4fc3-945f-8b7d4cd232ac",
   "metadata": {},
   "outputs": [],
   "source": []
  },
  {
   "cell_type": "code",
   "execution_count": 12,
   "id": "741eb394-5736-400f-a3cd-a18533ba1aa2",
   "metadata": {},
   "outputs": [],
   "source": [
    "df2 = pd.read_csv (r\"C:\\Users\\bhanu\\iCloudDrive\\Documents\\Alex the Analyst Course\\Pandas\\Data\\world_population.csv\", index_col = 'Country')"
   ]
  },
  {
   "cell_type": "code",
   "execution_count": 18,
   "id": "40154b05-d79c-4ee4-8d01-b85b721adb20",
   "metadata": {},
   "outputs": [],
   "source": [
    "df2.reset_index(inplace = True)"
   ]
  },
  {
   "cell_type": "code",
   "execution_count": 26,
   "id": "11aa98d0-041f-457d-a7a9-fa1084ce5d1a",
   "metadata": {},
   "outputs": [],
   "source": [
    "df2.set_index('Country')\n",
    "\n",
    "df2.set_index('Country', inplace = True)"
   ]
  },
  {
   "cell_type": "code",
   "execution_count": 30,
   "id": "b4cae08a-501d-4370-beca-45b5d5daa828",
   "metadata": {},
   "outputs": [
    {
     "data": {
      "text/plain": [
       "Rank                                 138\n",
       "CCA3                                 ALB\n",
       "Capital                           Tirana\n",
       "Continent                         Europe\n",
       "2022 Population                2842321.0\n",
       "2020 Population                2866849.0\n",
       "2015 Population                2882481.0\n",
       "2010 Population                2913399.0\n",
       "2000 Population                3182021.0\n",
       "1990 Population                3295066.0\n",
       "1980 Population                2941651.0\n",
       "1970 Population                2324731.0\n",
       "Area (km²)                       28748.0\n",
       "Density (per km²)                98.8702\n",
       "Growth Rate                       0.9957\n",
       "World Population Percentage         0.04\n",
       "Name: Albania, dtype: object"
      ]
     },
     "execution_count": 30,
     "metadata": {},
     "output_type": "execute_result"
    }
   ],
   "source": [
    "df2.loc['Albania']"
   ]
  },
  {
   "cell_type": "code",
   "execution_count": 34,
   "id": "6761d04e-ea63-49de-8242-7d312b398216",
   "metadata": {},
   "outputs": [
    {
     "data": {
      "text/plain": [
       "Rank                                        203\n",
       "CCA3                                        AND\n",
       "Capital                        Andorra la Vella\n",
       "Continent                                Europe\n",
       "2022 Population                         79824.0\n",
       "2020 Population                         77700.0\n",
       "2015 Population                         71746.0\n",
       "2010 Population                         71519.0\n",
       "2000 Population                         66097.0\n",
       "1990 Population                         53569.0\n",
       "1980 Population                         35611.0\n",
       "1970 Population                         19860.0\n",
       "Area (km²)                                468.0\n",
       "Density (per km²)                      170.5641\n",
       "Growth Rate                                1.01\n",
       "World Population Percentage                 0.0\n",
       "Name: Andorra, dtype: object"
      ]
     },
     "execution_count": 34,
     "metadata": {},
     "output_type": "execute_result"
    }
   ],
   "source": [
    "df2.iloc[4]"
   ]
  },
  {
   "cell_type": "code",
   "execution_count": 36,
   "id": "be853d9f-0e7e-431c-8dac-f7b57fb15e95",
   "metadata": {},
   "outputs": [],
   "source": [
    "df2.reset_index(inplace = True)"
   ]
  },
  {
   "cell_type": "code",
   "execution_count": 38,
   "id": "0973b991-f4a4-49b7-ba4e-558627ab68a3",
   "metadata": {},
   "outputs": [],
   "source": [
    "df2.set_index(['Continent', 'Country'], inplace = True)"
   ]
  },
  {
   "cell_type": "code",
   "execution_count": 84,
   "id": "21f9f61a-1ac3-4c7c-ad87-bc5d2eff4d46",
   "metadata": {},
   "outputs": [
    {
     "data": {
      "text/html": [
       "<div>\n",
       "<style scoped>\n",
       "    .dataframe tbody tr th:only-of-type {\n",
       "        vertical-align: middle;\n",
       "    }\n",
       "\n",
       "    .dataframe tbody tr th {\n",
       "        vertical-align: top;\n",
       "    }\n",
       "\n",
       "    .dataframe thead th {\n",
       "        text-align: right;\n",
       "    }\n",
       "</style>\n",
       "<table border=\"1\" class=\"dataframe\">\n",
       "  <thead>\n",
       "    <tr style=\"text-align: right;\">\n",
       "      <th></th>\n",
       "      <th></th>\n",
       "      <th>Rank</th>\n",
       "      <th>CCA3</th>\n",
       "      <th>Capital</th>\n",
       "      <th>2022 Population</th>\n",
       "      <th>2020 Population</th>\n",
       "      <th>2015 Population</th>\n",
       "      <th>2010 Population</th>\n",
       "      <th>2000 Population</th>\n",
       "      <th>1990 Population</th>\n",
       "      <th>1980 Population</th>\n",
       "      <th>1970 Population</th>\n",
       "      <th>Area (km²)</th>\n",
       "      <th>Density (per km²)</th>\n",
       "      <th>Growth Rate</th>\n",
       "      <th>World Population Percentage</th>\n",
       "    </tr>\n",
       "    <tr>\n",
       "      <th>Continent</th>\n",
       "      <th>Country</th>\n",
       "      <th></th>\n",
       "      <th></th>\n",
       "      <th></th>\n",
       "      <th></th>\n",
       "      <th></th>\n",
       "      <th></th>\n",
       "      <th></th>\n",
       "      <th></th>\n",
       "      <th></th>\n",
       "      <th></th>\n",
       "      <th></th>\n",
       "      <th></th>\n",
       "      <th></th>\n",
       "      <th></th>\n",
       "      <th></th>\n",
       "    </tr>\n",
       "  </thead>\n",
       "  <tbody>\n",
       "    <tr>\n",
       "      <th rowspan=\"3\" valign=\"top\">Africa</th>\n",
       "      <th>Zimbabwe</th>\n",
       "      <td>74</td>\n",
       "      <td>ZWE</td>\n",
       "      <td>Harare</td>\n",
       "      <td>16320537.0</td>\n",
       "      <td>15669666.0</td>\n",
       "      <td>14154937.0</td>\n",
       "      <td>12839771.0</td>\n",
       "      <td>11834676.0</td>\n",
       "      <td>10113893.0</td>\n",
       "      <td>7049926.0</td>\n",
       "      <td>5202918.0</td>\n",
       "      <td>390757.0</td>\n",
       "      <td>41.7665</td>\n",
       "      <td>1.0204</td>\n",
       "      <td>0.20</td>\n",
       "    </tr>\n",
       "    <tr>\n",
       "      <th>Zambia</th>\n",
       "      <td>63</td>\n",
       "      <td>ZMB</td>\n",
       "      <td>Lusaka</td>\n",
       "      <td>20017675.0</td>\n",
       "      <td>18927715.0</td>\n",
       "      <td>NaN</td>\n",
       "      <td>13792086.0</td>\n",
       "      <td>9891136.0</td>\n",
       "      <td>7686401.0</td>\n",
       "      <td>5720438.0</td>\n",
       "      <td>4281671.0</td>\n",
       "      <td>752612.0</td>\n",
       "      <td>26.5976</td>\n",
       "      <td>1.0280</td>\n",
       "      <td>0.25</td>\n",
       "    </tr>\n",
       "    <tr>\n",
       "      <th>Western Sahara</th>\n",
       "      <td>172</td>\n",
       "      <td>ESH</td>\n",
       "      <td>El Aaiún</td>\n",
       "      <td>575986.0</td>\n",
       "      <td>556048.0</td>\n",
       "      <td>491824.0</td>\n",
       "      <td>413296.0</td>\n",
       "      <td>270375.0</td>\n",
       "      <td>178529.0</td>\n",
       "      <td>116775.0</td>\n",
       "      <td>76371.0</td>\n",
       "      <td>266000.0</td>\n",
       "      <td>2.1654</td>\n",
       "      <td>1.0184</td>\n",
       "      <td>0.01</td>\n",
       "    </tr>\n",
       "    <tr>\n",
       "      <th>...</th>\n",
       "      <th>...</th>\n",
       "      <td>...</td>\n",
       "      <td>...</td>\n",
       "      <td>...</td>\n",
       "      <td>...</td>\n",
       "      <td>...</td>\n",
       "      <td>...</td>\n",
       "      <td>...</td>\n",
       "      <td>...</td>\n",
       "      <td>...</td>\n",
       "      <td>...</td>\n",
       "      <td>...</td>\n",
       "      <td>...</td>\n",
       "      <td>...</td>\n",
       "      <td>...</td>\n",
       "      <td>...</td>\n",
       "    </tr>\n",
       "    <tr>\n",
       "      <th rowspan=\"3\" valign=\"top\">South America</th>\n",
       "      <th>Brazil</th>\n",
       "      <td>7</td>\n",
       "      <td>BRA</td>\n",
       "      <td>Brasilia</td>\n",
       "      <td>215313498.0</td>\n",
       "      <td>213196304.0</td>\n",
       "      <td>205188205.0</td>\n",
       "      <td>196353492.0</td>\n",
       "      <td>175873720.0</td>\n",
       "      <td>150706446.0</td>\n",
       "      <td>122288383.0</td>\n",
       "      <td>96369875.0</td>\n",
       "      <td>8515767.0</td>\n",
       "      <td>25.2841</td>\n",
       "      <td>1.0046</td>\n",
       "      <td>2.70</td>\n",
       "    </tr>\n",
       "    <tr>\n",
       "      <th>Bolivia</th>\n",
       "      <td>80</td>\n",
       "      <td>BOL</td>\n",
       "      <td>Sucre</td>\n",
       "      <td>12224110.0</td>\n",
       "      <td>11936162.0</td>\n",
       "      <td>11090085.0</td>\n",
       "      <td>10223270.0</td>\n",
       "      <td>8592656.0</td>\n",
       "      <td>7096194.0</td>\n",
       "      <td>5736088.0</td>\n",
       "      <td>4585693.0</td>\n",
       "      <td>1098581.0</td>\n",
       "      <td>11.1272</td>\n",
       "      <td>1.0120</td>\n",
       "      <td>0.15</td>\n",
       "    </tr>\n",
       "    <tr>\n",
       "      <th>Argentina</th>\n",
       "      <td>33</td>\n",
       "      <td>ARG</td>\n",
       "      <td>Buenos Aires</td>\n",
       "      <td>45510318.0</td>\n",
       "      <td>45036032.0</td>\n",
       "      <td>43257065.0</td>\n",
       "      <td>41100123.0</td>\n",
       "      <td>37070774.0</td>\n",
       "      <td>32637657.0</td>\n",
       "      <td>28024803.0</td>\n",
       "      <td>23842803.0</td>\n",
       "      <td>2780400.0</td>\n",
       "      <td>16.3683</td>\n",
       "      <td>1.0052</td>\n",
       "      <td>0.57</td>\n",
       "    </tr>\n",
       "  </tbody>\n",
       "</table>\n",
       "<p>234 rows × 15 columns</p>\n",
       "</div>"
      ],
      "text/plain": [
       "                              Rank CCA3       Capital  2022 Population  \\\n",
       "Continent     Country                                                    \n",
       "Africa        Zimbabwe          74  ZWE        Harare       16320537.0   \n",
       "              Zambia            63  ZMB        Lusaka       20017675.0   \n",
       "              Western Sahara   172  ESH      El Aaiún         575986.0   \n",
       "...                            ...  ...           ...              ...   \n",
       "South America Brazil             7  BRA      Brasilia      215313498.0   \n",
       "              Bolivia           80  BOL         Sucre       12224110.0   \n",
       "              Argentina         33  ARG  Buenos Aires       45510318.0   \n",
       "\n",
       "                              2020 Population  2015 Population  \\\n",
       "Continent     Country                                            \n",
       "Africa        Zimbabwe             15669666.0       14154937.0   \n",
       "              Zambia               18927715.0              NaN   \n",
       "              Western Sahara         556048.0         491824.0   \n",
       "...                                       ...              ...   \n",
       "South America Brazil              213196304.0      205188205.0   \n",
       "              Bolivia              11936162.0       11090085.0   \n",
       "              Argentina            45036032.0       43257065.0   \n",
       "\n",
       "                              2010 Population  2000 Population  \\\n",
       "Continent     Country                                            \n",
       "Africa        Zimbabwe             12839771.0       11834676.0   \n",
       "              Zambia               13792086.0        9891136.0   \n",
       "              Western Sahara         413296.0         270375.0   \n",
       "...                                       ...              ...   \n",
       "South America Brazil              196353492.0      175873720.0   \n",
       "              Bolivia              10223270.0        8592656.0   \n",
       "              Argentina            41100123.0       37070774.0   \n",
       "\n",
       "                              1990 Population  1980 Population  \\\n",
       "Continent     Country                                            \n",
       "Africa        Zimbabwe             10113893.0        7049926.0   \n",
       "              Zambia                7686401.0        5720438.0   \n",
       "              Western Sahara         178529.0         116775.0   \n",
       "...                                       ...              ...   \n",
       "South America Brazil              150706446.0      122288383.0   \n",
       "              Bolivia               7096194.0        5736088.0   \n",
       "              Argentina            32637657.0       28024803.0   \n",
       "\n",
       "                              1970 Population  Area (km²)  Density (per km²)  \\\n",
       "Continent     Country                                                          \n",
       "Africa        Zimbabwe              5202918.0    390757.0            41.7665   \n",
       "              Zambia                4281671.0    752612.0            26.5976   \n",
       "              Western Sahara          76371.0    266000.0             2.1654   \n",
       "...                                       ...         ...                ...   \n",
       "South America Brazil               96369875.0   8515767.0            25.2841   \n",
       "              Bolivia               4585693.0   1098581.0            11.1272   \n",
       "              Argentina            23842803.0   2780400.0            16.3683   \n",
       "\n",
       "                              Growth Rate  World Population Percentage  \n",
       "Continent     Country                                                   \n",
       "Africa        Zimbabwe             1.0204                         0.20  \n",
       "              Zambia               1.0280                         0.25  \n",
       "              Western Sahara       1.0184                         0.01  \n",
       "...                                   ...                          ...  \n",
       "South America Brazil               1.0046                         2.70  \n",
       "              Bolivia              1.0120                         0.15  \n",
       "              Argentina            1.0052                         0.57  \n",
       "\n",
       "[234 rows x 15 columns]"
      ]
     },
     "execution_count": 84,
     "metadata": {},
     "output_type": "execute_result"
    }
   ],
   "source": [
    "df2.sort_index(ascending = [True,False])\n",
    "\n",
    "#pd.set_option('display.max.rows', 6)"
   ]
  },
  {
   "cell_type": "code",
   "execution_count": 86,
   "id": "8396f1f1-b8c7-4512-b839-77afceffe7e9",
   "metadata": {},
   "outputs": [
    {
     "name": "stdout",
     "output_type": "stream",
     "text": [
      "<class 'pandas.core.frame.DataFrame'>\n",
      "MultiIndex: 234 entries, ('Asia', 'Afghanistan') to ('Africa', 'Zimbabwe')\n",
      "Data columns (total 15 columns):\n",
      " #   Column                       Non-Null Count  Dtype  \n",
      "---  ------                       --------------  -----  \n",
      " 0   Rank                         234 non-null    int64  \n",
      " 1   CCA3                         234 non-null    object \n",
      " 2   Capital                      234 non-null    object \n",
      " 3   2022 Population              230 non-null    float64\n",
      " 4   2020 Population              233 non-null    float64\n",
      " 5   2015 Population              230 non-null    float64\n",
      " 6   2010 Population              227 non-null    float64\n",
      " 7   2000 Population              227 non-null    float64\n",
      " 8   1990 Population              229 non-null    float64\n",
      " 9   1980 Population              229 non-null    float64\n",
      " 10  1970 Population              230 non-null    float64\n",
      " 11  Area (km²)                   232 non-null    float64\n",
      " 12  Density (per km²)            230 non-null    float64\n",
      " 13  Growth Rate                  232 non-null    float64\n",
      " 14  World Population Percentage  234 non-null    float64\n",
      "dtypes: float64(12), int64(1), object(2)\n",
      "memory usage: 46.4+ KB\n"
     ]
    }
   ],
   "source": [
    "df2.info()"
   ]
  },
  {
   "cell_type": "code",
   "execution_count": 88,
   "id": "dc3c9b15-9c6a-4e9c-a9a0-1d7da9a0b2fc",
   "metadata": {},
   "outputs": [
    {
     "data": {
      "text/plain": [
       "Rank                                42\n",
       "CCA3                               AGO\n",
       "Capital                         Luanda\n",
       "                                ...   \n",
       "Density (per km²)              28.5466\n",
       "Growth Rate                     1.0315\n",
       "World Population Percentage       0.45\n",
       "Name: (Africa, Angola), Length: 15, dtype: object"
      ]
     },
     "execution_count": 88,
     "metadata": {},
     "output_type": "execute_result"
    }
   ],
   "source": [
    "df2.loc['Africa','Angola']"
   ]
  },
  {
   "cell_type": "code",
   "execution_count": 90,
   "id": "09c1820d-8c71-4ae1-a1aa-aea70059cb4b",
   "metadata": {},
   "outputs": [
    {
     "data": {
      "text/plain": [
       "Rank                                        203\n",
       "CCA3                                        AND\n",
       "Capital                        Andorra la Vella\n",
       "                                     ...       \n",
       "Density (per km²)                      170.5641\n",
       "Growth Rate                                1.01\n",
       "World Population Percentage                 0.0\n",
       "Name: (Europe, Andorra), Length: 15, dtype: object"
      ]
     },
     "execution_count": 90,
     "metadata": {},
     "output_type": "execute_result"
    }
   ],
   "source": [
    "df2.iloc[4]"
   ]
  },
  {
   "cell_type": "code",
   "execution_count": null,
   "id": "be73ef2c-7d9b-47ed-885f-b59806cb3933",
   "metadata": {},
   "outputs": [],
   "source": []
  }
 ],
 "metadata": {
  "kernelspec": {
   "display_name": "Python [conda env:base] *",
   "language": "python",
   "name": "conda-base-py"
  },
  "language_info": {
   "codemirror_mode": {
    "name": "ipython",
    "version": 3
   },
   "file_extension": ".py",
   "mimetype": "text/x-python",
   "name": "python",
   "nbconvert_exporter": "python",
   "pygments_lexer": "ipython3",
   "version": "3.12.7"
  }
 },
 "nbformat": 4,
 "nbformat_minor": 5
}
