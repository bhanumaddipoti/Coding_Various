{
 "cells": [
  {
   "cell_type": "code",
   "execution_count": 2,
   "id": "096e8862-7caf-427e-b355-22f8b7a0231e",
   "metadata": {},
   "outputs": [],
   "source": [
    "from bs4 import BeautifulSoup\n",
    "import requests"
   ]
  },
  {
   "cell_type": "code",
   "execution_count": 4,
   "id": "f52279d9-a3df-4a4a-983e-d4e3c3851725",
   "metadata": {},
   "outputs": [],
   "source": [
    "url = 'https://stockanalysis.com/list/highest-revenue/'\n",
    "\n",
    "page = requests.get(url)\n",
    "\n",
    "soup = BeautifulSoup(page.text, 'html')"
   ]
  },
  {
   "cell_type": "code",
   "execution_count": 18,
   "id": "9e956e97-635b-4b2a-8bbe-daeeb1d5878d",
   "metadata": {},
   "outputs": [],
   "source": [
    "table = soup.find('table')"
   ]
  },
  {
   "cell_type": "code",
   "execution_count": 36,
   "id": "5e8d3c9c-fb55-4628-9968-6097adc53727",
   "metadata": {},
   "outputs": [],
   "source": [
    "all_table_titles = table.find_all('th')"
   ]
  },
  {
   "cell_type": "code",
   "execution_count": 38,
   "id": "d33a797d-69d9-4c96-b110-ba8a5cdc4e04",
   "metadata": {},
   "outputs": [],
   "source": [
    "table_titles = [title.text.strip() for title in all_table_titles]"
   ]
  },
  {
   "cell_type": "code",
   "execution_count": 32,
   "id": "bd25a439-b0f6-47cd-a7f2-827cfc9b63aa",
   "metadata": {},
   "outputs": [],
   "source": [
    "import pandas as pd"
   ]
  },
  {
   "cell_type": "code",
   "execution_count": 42,
   "id": "8cbe9d94-25cc-4a3b-8c4f-59490bd8d725",
   "metadata": {},
   "outputs": [],
   "source": [
    "df = pd.DataFrame(columns = table_titles)"
   ]
  },
  {
   "cell_type": "code",
   "execution_count": 44,
   "id": "c9e25f17-2745-410e-8eaa-c35f1e922d82",
   "metadata": {},
   "outputs": [],
   "source": [
    "column_data = table.find_all('tr')"
   ]
  },
  {
   "cell_type": "code",
   "execution_count": 50,
   "id": "7a13a32b-b4e6-4f5f-860c-5cdd666fa86f",
   "metadata": {},
   "outputs": [],
   "source": [
    "for row in column_data[1:]:\n",
    "    row_data = row.find_all('td')\n",
    "    individual_row_data = [data.text.strip() for data in row_data]\n",
    "\n",
    "    length = len(df)\n",
    "    df.loc[length] = individual_row_data"
   ]
  },
  {
   "cell_type": "code",
   "execution_count": 54,
   "id": "a03a5b17-1c9b-44c0-aa32-ec744f9d9488",
   "metadata": {},
   "outputs": [],
   "source": [
    "df.to_csv(r'C:/Users/bhanu/iCloudDrive/Documents/Alex the Analyst Course/Web Scraping/Scraped Data/Stock Analysis Trial/Companies_Scraped.csv', index = False)"
   ]
  },
  {
   "cell_type": "code",
   "execution_count": null,
   "id": "31c5f1a0-209d-40ef-9fae-b21c2b58fcb9",
   "metadata": {},
   "outputs": [],
   "source": []
  }
 ],
 "metadata": {
  "kernelspec": {
   "display_name": "Python [conda env:base] *",
   "language": "python",
   "name": "conda-base-py"
  },
  "language_info": {
   "codemirror_mode": {
    "name": "ipython",
    "version": 3
   },
   "file_extension": ".py",
   "mimetype": "text/x-python",
   "name": "python",
   "nbconvert_exporter": "python",
   "pygments_lexer": "ipython3",
   "version": "3.12.7"
  }
 },
 "nbformat": 4,
 "nbformat_minor": 5
}
