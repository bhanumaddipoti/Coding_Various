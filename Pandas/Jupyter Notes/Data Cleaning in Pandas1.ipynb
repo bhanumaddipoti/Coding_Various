{
 "cells": [
  {
   "cell_type": "markdown",
   "id": "c2037d61-66af-4535-85db-2c4fd25f001e",
   "metadata": {},
   "source": [
    "# Data Cleaning in Pandas"
   ]
  },
  {
   "cell_type": "code",
   "execution_count": 256,
   "id": "68813a95-1e2a-4784-b38f-2de22e8a2333",
   "metadata": {},
   "outputs": [],
   "source": [
    "import pandas as pd"
   ]
  },
  {
   "cell_type": "code",
   "execution_count": 258,
   "id": "3f427f23-f048-4312-bb0a-1932d0ae1569",
   "metadata": {},
   "outputs": [],
   "source": [
    "df1 = pd.read_excel (r\"C:\\Users\\bhanu\\iCloudDrive\\Documents\\Alex the Analyst Course\\Pandas\\Data\\Customer Call List.xlsx\")"
   ]
  },
  {
   "cell_type": "code",
   "execution_count": 260,
   "id": "15d42c86-2f11-435b-9bed-6d84e4ebf0ad",
   "metadata": {},
   "outputs": [],
   "source": [
    "df1.drop_duplicates(inplace = True)"
   ]
  },
  {
   "cell_type": "code",
   "execution_count": 262,
   "id": "d20a4e8a-ddea-4e63-b080-8da5f19fcaa5",
   "metadata": {},
   "outputs": [],
   "source": [
    "df1 = df2"
   ]
  },
  {
   "cell_type": "code",
   "execution_count": null,
   "id": "86d387e5-d7d7-4667-ab67-e6862991acff",
   "metadata": {},
   "outputs": [],
   "source": [
    "df1.drop (columns = 'Not_Useful_Column', inplace = True)"
   ]
  },
  {
   "cell_type": "code",
   "execution_count": null,
   "id": "1c4e321d-6ac6-47f3-b054-1c104e4a6620",
   "metadata": {},
   "outputs": [],
   "source": []
  },
  {
   "cell_type": "code",
   "execution_count": 266,
   "id": "1e50cc2f-a7ff-48f2-99f7-fbc6346fd93a",
   "metadata": {},
   "outputs": [],
   "source": [
    "df1['Last_Name'] = df1['Last_Name'].str.lstrip(\"...\")\n",
    "df1['Last_Name'] = df1['Last_Name'].str.lstrip(\"/\")\n",
    "df1['Last_Name'] = df1['Last_Name'].str.rstrip(\"_\")"
   ]
  },
  {
   "cell_type": "code",
   "execution_count": 268,
   "id": "84cd0536-1569-42f0-97a1-a4cc0c1e6c96",
   "metadata": {},
   "outputs": [],
   "source": [
    "df2['Last_Name'] = df2['Last_Name'].str.strip(\"123._/(\")"
   ]
  },
  {
   "cell_type": "code",
   "execution_count": 270,
   "id": "0284f1f3-65e3-4700-88e1-6c6ad9c1f4a0",
   "metadata": {},
   "outputs": [],
   "source": [
    "df1[\"Phone_Number\"] = df1[\"Phone_Number\"].str.replace('[^a-zA-Z0-9]','', regex = True)"
   ]
  },
  {
   "cell_type": "code",
   "execution_count": 272,
   "id": "ee544d31-5e6b-4523-a9ae-11ceba46e656",
   "metadata": {},
   "outputs": [],
   "source": [
    "df1[\"Phone_Number\"] = df1[\"Phone_Number\"].apply(lambda x: str(x))"
   ]
  },
  {
   "cell_type": "code",
   "execution_count": 274,
   "id": "3c959644-7fad-4611-a7ff-9e151e10685a",
   "metadata": {},
   "outputs": [
    {
     "data": {
      "text/plain": [
       "0       12354554\n",
       "1       12364397\n",
       "2     7066950392\n",
       "3       12354323\n",
       "4       87667834\n",
       "5       30476224\n",
       "6            nan\n",
       "7       87667834\n",
       "8             Na\n",
       "9       12354554\n",
       "10           nan\n",
       "11    7066950392\n",
       "12      12354323\n",
       "13      87667834\n",
       "14      30476224\n",
       "15      12354554\n",
       "16      12364397\n",
       "17    7066950392\n",
       "18            Na\n",
       "19      87667834\n",
       "Name: Phone_Number, dtype: object"
      ]
     },
     "execution_count": 274,
     "metadata": {},
     "output_type": "execute_result"
    }
   ],
   "source": [
    "df1[\"Phone_Number\"]"
   ]
  },
  {
   "cell_type": "code",
   "execution_count": 276,
   "id": "557e1ce5-80d3-4043-95b6-8aa57ce3d92d",
   "metadata": {},
   "outputs": [
    {
     "data": {
      "text/plain": [
       "0       123-545-54\n",
       "1       123-643-97\n",
       "2     706-695-0392\n",
       "3       123-543-23\n",
       "4       876-678-34\n",
       "5       304-762-24\n",
       "6            nan--\n",
       "7       876-678-34\n",
       "8             Na--\n",
       "9       123-545-54\n",
       "10           nan--\n",
       "11    706-695-0392\n",
       "12      123-543-23\n",
       "13      876-678-34\n",
       "14      304-762-24\n",
       "15      123-545-54\n",
       "16      123-643-97\n",
       "17    706-695-0392\n",
       "18            Na--\n",
       "19      876-678-34\n",
       "Name: Phone_Number, dtype: object"
      ]
     },
     "execution_count": 276,
     "metadata": {},
     "output_type": "execute_result"
    }
   ],
   "source": [
    "df1[\"Phone_Number\"].apply(lambda x: x[0:3] + '-' + x[3:6] + '-' + x[6:10])"
   ]
  },
  {
   "cell_type": "code",
   "execution_count": null,
   "id": "cdf33ee8-1ec5-495e-ab12-41a275464fbe",
   "metadata": {},
   "outputs": [],
   "source": []
  },
  {
   "cell_type": "code",
   "execution_count": null,
   "id": "89dfd05b-0281-449f-b93f-d49192e92569",
   "metadata": {},
   "outputs": [],
   "source": []
  }
 ],
 "metadata": {
  "kernelspec": {
   "display_name": "Python [conda env:base] *",
   "language": "python",
   "name": "conda-base-py"
  },
  "language_info": {
   "codemirror_mode": {
    "name": "ipython",
    "version": 3
   },
   "file_extension": ".py",
   "mimetype": "text/x-python",
   "name": "python",
   "nbconvert_exporter": "python",
   "pygments_lexer": "ipython3",
   "version": "3.12.7"
  }
 },
 "nbformat": 4,
 "nbformat_minor": 5
}
