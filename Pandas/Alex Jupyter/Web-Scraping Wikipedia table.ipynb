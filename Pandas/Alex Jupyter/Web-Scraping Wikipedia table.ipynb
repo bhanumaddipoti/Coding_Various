{
 "cells": [
  {
   "cell_type": "code",
   "execution_count": 136,
   "id": "7710f76a-8660-4bcd-aafe-f4584bdfd651",
   "metadata": {},
   "outputs": [],
   "source": [
    "from bs4 import BeautifulSoup\n",
    "import requests"
   ]
  },
  {
   "cell_type": "code",
   "execution_count": 138,
   "id": "9b36e8f3-0bd0-4524-a040-20ab8105e331",
   "metadata": {},
   "outputs": [],
   "source": [
    "url = 'https://en.wikipedia.org/wiki/List_of_largest_companies_in_the_United_States_by_revenue'\n",
    "\n",
    "page = requests.get(url)\n",
    "\n",
    "soup = BeautifulSoup(page.text, 'html')"
   ]
  },
  {
   "cell_type": "code",
   "execution_count": 140,
   "id": "fdc7bfdc-bcb3-47a6-85a0-56d4c7ecaea2",
   "metadata": {},
   "outputs": [],
   "source": [
    "table = soup.find_all('table')[0]"
   ]
  },
  {
   "cell_type": "code",
   "execution_count": 142,
   "id": "571ee6ae-4fc4-4ed8-9a73-ff7054fe6e0c",
   "metadata": {},
   "outputs": [],
   "source": [
    "world_titles = table.find_all('th')"
   ]
  },
  {
   "cell_type": "code",
   "execution_count": 144,
   "id": "cd286fa5-19a7-46f9-8b3b-b481a1a0e357",
   "metadata": {},
   "outputs": [],
   "source": [
    "world_table_titles = [title.text.strip() for title in world_titles]"
   ]
  },
  {
   "cell_type": "code",
   "execution_count": 146,
   "id": "5f0427e8-4927-44f7-bda8-6779cc0f4329",
   "metadata": {},
   "outputs": [],
   "source": [
    "import pandas as pd"
   ]
  },
  {
   "cell_type": "code",
   "execution_count": 148,
   "id": "bb234bcd-77c0-49e2-9e89-d2b888be632e",
   "metadata": {},
   "outputs": [],
   "source": [
    "df = pd.DataFrame(columns = world_table_titles)"
   ]
  },
  {
   "cell_type": "code",
   "execution_count": 150,
   "id": "4c3e2157-ede2-4875-860e-59c2fc7241da",
   "metadata": {},
   "outputs": [],
   "source": [
    "column_data = table.find_all('tr')"
   ]
  },
  {
   "cell_type": "code",
   "execution_count": 152,
   "id": "b8b87fb2-4c62-4c1d-870c-2d9279524f84",
   "metadata": {},
   "outputs": [],
   "source": [
    "for row in column_data[1:]:\n",
    "    row_data = row.find_all('td')\n",
    "    individual_row_data = [data.text.strip() for data in row_data]\n",
    "\n",
    "    length = len(df)\n",
    "    df.loc[length] = individual_row_data"
   ]
  },
  {
   "cell_type": "code",
   "execution_count": 163,
   "id": "a1b3dd42-b9ff-4557-a8a8-b41f0a1650e2",
   "metadata": {},
   "outputs": [],
   "source": [
    "df.to_csv(r'C:/Users/bhanu/iCloudDrive/Documents/Alex the Analyst Course/Web Scraping/Scraped Data/Wikipedia Tutorial/Companies.csv', index = False)"
   ]
  }
 ],
 "metadata": {
  "kernelspec": {
   "display_name": "Python [conda env:base] *",
   "language": "python",
   "name": "conda-base-py"
  },
  "language_info": {
   "codemirror_mode": {
    "name": "ipython",
    "version": 3
   },
   "file_extension": ".py",
   "mimetype": "text/x-python",
   "name": "python",
   "nbconvert_exporter": "python",
   "pygments_lexer": "ipython3",
   "version": "3.12.7"
  }
 },
 "nbformat": 4,
 "nbformat_minor": 5
}
