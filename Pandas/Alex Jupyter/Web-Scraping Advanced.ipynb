{
 "cells": [
  {
   "cell_type": "code",
   "execution_count": 109,
   "id": "7dd773a7-e614-4f36-b807-b101b7a91493",
   "metadata": {},
   "outputs": [],
   "source": [
    "from bs4 import BeautifulSoup\n",
    "import requests\n",
    "import pandas as pd\n",
    "\n",
    "url = \"https://en.wikipedia.org/wiki/List_of_cities_by_international_visitors\"\n",
    "\n",
    "headers = {\n",
    "    \"User-Agent\": \"Mozilla/5.0 (Windows NT 10.0; Win64; x64) AppleWebKit/537.36 (KHTML, like Gecko) Chrome/122.0.0.0 Safari/537.36\"\n",
    "}\n",
    "\n",
    "response = requests.get(url, headers=headers)\n",
    "soup = BeautifulSoup(response.content, \"html.parser\")\n",
    "\n",
    "tables = soup.find_all(\"table\", class_=\"wikitable\")\n",
    "\n",
    "\n",
    "def parse_table(table):\n",
    "    rows = table.find_all(\"tr\")\n",
    "    headers = [th.text.strip() for th in rows[0].find_all(\"th\")]\n",
    "    data = []\n",
    "\n",
    "    for row in rows[1:]:\n",
    "        cells = row.find_all([\"td\", \"th\"])\n",
    "        data.append([cell.text.strip() for cell in cells])\n",
    "\n",
    "    return pd.DataFrame(data, columns=headers)\n",
    "\n",
    "df_2018_2016 = parse_table(tables[2])"
   ]
  },
  {
   "cell_type": "code",
   "execution_count": 161,
   "id": "02a41b49-b2f8-4793-800a-ca88ac3d95dd",
   "metadata": {},
   "outputs": [],
   "source": [
    "df_2018_2016.to_csv(r'C:\\Users\\bhanu\\iCloudDrive\\Documents\\Alex the Analyst Course\\Web Scraping\\Scraped Data\\Another Trial\\2018_2016_top_100_cities.csv', index=False)"
   ]
  }
 ],
 "metadata": {
  "kernelspec": {
   "display_name": "Python [conda env:base] *",
   "language": "python",
   "name": "conda-base-py"
  },
  "language_info": {
   "codemirror_mode": {
    "name": "ipython",
    "version": 3
   },
   "file_extension": ".py",
   "mimetype": "text/x-python",
   "name": "python",
   "nbconvert_exporter": "python",
   "pygments_lexer": "ipython3",
   "version": "3.12.7"
  }
 },
 "nbformat": 4,
 "nbformat_minor": 5
}
