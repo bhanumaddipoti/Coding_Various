{
 "cells": [
  {
   "cell_type": "markdown",
   "id": "807e223b-971d-463b-aa55-2631a44de305",
   "metadata": {},
   "source": [
    "## Reading in Files"
   ]
  },
  {
   "cell_type": "code",
   "execution_count": 96,
   "id": "d4f24634-2888-4ab8-9454-29eb1826a192",
   "metadata": {},
   "outputs": [],
   "source": [
    "import pandas as pd"
   ]
  },
  {
   "cell_type": "code",
   "execution_count": 98,
   "id": "fe9c316d-dae7-4355-9027-cd2dfe4369e0",
   "metadata": {},
   "outputs": [],
   "source": [
    "df1 = pd.read_csv(r\"C:\\Users\\bhanu\\iCloudDrive\\Documents\\Alex the Analyst Course\\Pandas\\Data\\countries of the world.csv\", header = 0)"
   ]
  },
  {
   "cell_type": "code",
   "execution_count": 100,
   "id": "889f0b4c-a520-4b34-83dd-bf1fa9980856",
   "metadata": {},
   "outputs": [],
   "source": [
    "df2 = pd.read_table(r\"C:\\Users\\bhanu\\iCloudDrive\\Documents\\Alex the Analyst Course\\Pandas\\Data\\countries of the world.txt\")"
   ]
  },
  {
   "cell_type": "code",
   "execution_count": 102,
   "id": "27c7f35a-05ff-4388-95df-44ce80ba00d6",
   "metadata": {},
   "outputs": [],
   "source": [
    "df3 = pd.read_json(r\"C:\\Users\\bhanu\\iCloudDrive\\Documents\\Alex the Analyst Course\\Pandas\\Data\\json_sample.json\")"
   ]
  },
  {
   "cell_type": "code",
   "execution_count": 104,
   "id": "f2f16c50-3c17-41c5-8cd5-03de6e8ccd98",
   "metadata": {},
   "outputs": [],
   "source": [
    "df4 = pd.read_excel(r\"C:\\Users\\bhanu\\iCloudDrive\\Documents\\Alex the Analyst Course\\Pandas\\Data\\world_population_excel_workbook.xlsx\")"
   ]
  },
  {
   "cell_type": "code",
   "execution_count": 106,
   "id": "e92a8871-7727-422a-927a-8ba5f3488984",
   "metadata": {},
   "outputs": [],
   "source": [
    "df5 = pd.read_excel(r\"C:\\Users\\bhanu\\iCloudDrive\\Documents\\Alex the Analyst Course\\Pandas\\Data\\world_population_excel_workbook.xlsx\", sheet_name = 'Sheet1')"
   ]
  },
  {
   "cell_type": "code",
   "execution_count": 108,
   "id": "e1dd07cb-54c5-4603-8265-550c490fc7ee",
   "metadata": {},
   "outputs": [],
   "source": [
    "pd.set_option('display.max.rows', 10)\n",
    "pd.set_option('display.max.columns', 15)"
   ]
  },
  {
   "cell_type": "code",
   "execution_count": 110,
   "id": "3ad4221c-d1ff-476a-9a0d-452ee0b6c1c2",
   "metadata": {},
   "outputs": [
    {
     "name": "stdout",
     "output_type": "stream",
     "text": [
      "<class 'pandas.core.frame.DataFrame'>\n",
      "RangeIndex: 227 entries, 0 to 226\n",
      "Data columns (total 2 columns):\n",
      " #   Column   Non-Null Count  Dtype \n",
      "---  ------   --------------  ----- \n",
      " 0   Country  227 non-null    object\n",
      " 1   Region   227 non-null    object\n",
      "dtypes: object(2)\n",
      "memory usage: 3.7+ KB\n"
     ]
    }
   ],
   "source": [
    "df1.info()"
   ]
  },
  {
   "cell_type": "code",
   "execution_count": 112,
   "id": "ead186e4-5971-4dc5-a168-e0696629ab3a",
   "metadata": {},
   "outputs": [
    {
     "data": {
      "text/plain": [
       "(227, 2)"
      ]
     },
     "execution_count": 112,
     "metadata": {},
     "output_type": "execute_result"
    }
   ],
   "source": [
    "df2.shape"
   ]
  },
  {
   "cell_type": "code",
   "execution_count": 114,
   "id": "2cf4760f-6d44-48af-949d-e64a6011aac2",
   "metadata": {},
   "outputs": [
    {
     "data": {
      "text/plain": [
       "0    {'Genre': 'Biography', 'Gross': '$627,248', 'I...\n",
       "Name: The Greatest Showman, dtype: object"
      ]
     },
     "execution_count": 114,
     "metadata": {},
     "output_type": "execute_result"
    }
   ],
   "source": [
    "df3['The Greatest Showman']"
   ]
  },
  {
   "cell_type": "code",
   "execution_count": 116,
   "id": "83241133-fa7f-463e-bce2-fe477680f1ec",
   "metadata": {},
   "outputs": [
    {
     "data": {
      "text/html": [
       "<div>\n",
       "<style scoped>\n",
       "    .dataframe tbody tr th:only-of-type {\n",
       "        vertical-align: middle;\n",
       "    }\n",
       "\n",
       "    .dataframe tbody tr th {\n",
       "        vertical-align: top;\n",
       "    }\n",
       "\n",
       "    .dataframe thead th {\n",
       "        text-align: right;\n",
       "    }\n",
       "</style>\n",
       "<table border=\"1\" class=\"dataframe\">\n",
       "  <thead>\n",
       "    <tr style=\"text-align: right;\">\n",
       "      <th></th>\n",
       "      <th>Rank</th>\n",
       "      <th>CCA3</th>\n",
       "      <th>Country</th>\n",
       "      <th>Capital</th>\n",
       "      <th>Continent</th>\n",
       "      <th>2022 Population</th>\n",
       "      <th>2020 Population</th>\n",
       "      <th>...</th>\n",
       "      <th>1990 Population</th>\n",
       "      <th>1980 Population</th>\n",
       "      <th>1970 Population</th>\n",
       "      <th>Area (kmÂ²)</th>\n",
       "      <th>Density (per kmÂ²)</th>\n",
       "      <th>Growth Rate</th>\n",
       "      <th>World Population Percentage</th>\n",
       "    </tr>\n",
       "  </thead>\n",
       "  <tbody>\n",
       "    <tr>\n",
       "      <th>0</th>\n",
       "      <td>36</td>\n",
       "      <td>AFG</td>\n",
       "      <td>Afghanistan</td>\n",
       "      <td>Kabul</td>\n",
       "      <td>Asia</td>\n",
       "      <td>41128771</td>\n",
       "      <td>38972230</td>\n",
       "      <td>...</td>\n",
       "      <td>10694796</td>\n",
       "      <td>12486631</td>\n",
       "      <td>10752971</td>\n",
       "      <td>652230</td>\n",
       "      <td>63.0587</td>\n",
       "      <td>1.0257</td>\n",
       "      <td>0.52</td>\n",
       "    </tr>\n",
       "    <tr>\n",
       "      <th>1</th>\n",
       "      <td>138</td>\n",
       "      <td>ALB</td>\n",
       "      <td>Albania</td>\n",
       "      <td>Tirana</td>\n",
       "      <td>Europe</td>\n",
       "      <td>2842321</td>\n",
       "      <td>2866849</td>\n",
       "      <td>...</td>\n",
       "      <td>3295066</td>\n",
       "      <td>2941651</td>\n",
       "      <td>2324731</td>\n",
       "      <td>28748</td>\n",
       "      <td>98.8702</td>\n",
       "      <td>0.9957</td>\n",
       "      <td>0.04</td>\n",
       "    </tr>\n",
       "    <tr>\n",
       "      <th>2</th>\n",
       "      <td>34</td>\n",
       "      <td>DZA</td>\n",
       "      <td>Algeria</td>\n",
       "      <td>Algiers</td>\n",
       "      <td>Africa</td>\n",
       "      <td>44903225</td>\n",
       "      <td>43451666</td>\n",
       "      <td>...</td>\n",
       "      <td>25518074</td>\n",
       "      <td>18739378</td>\n",
       "      <td>13795915</td>\n",
       "      <td>2381741</td>\n",
       "      <td>18.8531</td>\n",
       "      <td>1.0164</td>\n",
       "      <td>0.56</td>\n",
       "    </tr>\n",
       "    <tr>\n",
       "      <th>3</th>\n",
       "      <td>213</td>\n",
       "      <td>ASM</td>\n",
       "      <td>American Samoa</td>\n",
       "      <td>Pago Pago</td>\n",
       "      <td>Oceania</td>\n",
       "      <td>44273</td>\n",
       "      <td>46189</td>\n",
       "      <td>...</td>\n",
       "      <td>47818</td>\n",
       "      <td>32886</td>\n",
       "      <td>27075</td>\n",
       "      <td>199</td>\n",
       "      <td>222.4774</td>\n",
       "      <td>0.9831</td>\n",
       "      <td>0.00</td>\n",
       "    </tr>\n",
       "    <tr>\n",
       "      <th>4</th>\n",
       "      <td>203</td>\n",
       "      <td>AND</td>\n",
       "      <td>Andorra</td>\n",
       "      <td>Andorra la Vella</td>\n",
       "      <td>Europe</td>\n",
       "      <td>79824</td>\n",
       "      <td>77700</td>\n",
       "      <td>...</td>\n",
       "      <td>53569</td>\n",
       "      <td>35611</td>\n",
       "      <td>19860</td>\n",
       "      <td>468</td>\n",
       "      <td>170.5641</td>\n",
       "      <td>1.0100</td>\n",
       "      <td>0.00</td>\n",
       "    </tr>\n",
       "  </tbody>\n",
       "</table>\n",
       "<p>5 rows × 17 columns</p>\n",
       "</div>"
      ],
      "text/plain": [
       "   Rank CCA3         Country           Capital Continent  2022 Population  \\\n",
       "0    36  AFG     Afghanistan             Kabul      Asia         41128771   \n",
       "1   138  ALB         Albania            Tirana    Europe          2842321   \n",
       "2    34  DZA         Algeria           Algiers    Africa         44903225   \n",
       "3   213  ASM  American Samoa         Pago Pago   Oceania            44273   \n",
       "4   203  AND         Andorra  Andorra la Vella    Europe            79824   \n",
       "\n",
       "   2020 Population  ...  1990 Population  1980 Population  1970 Population  \\\n",
       "0         38972230  ...         10694796         12486631         10752971   \n",
       "1          2866849  ...          3295066          2941651          2324731   \n",
       "2         43451666  ...         25518074         18739378         13795915   \n",
       "3            46189  ...            47818            32886            27075   \n",
       "4            77700  ...            53569            35611            19860   \n",
       "\n",
       "   Area (kmÂ²)  Density (per kmÂ²)  Growth Rate  World Population Percentage  \n",
       "0       652230             63.0587       1.0257                         0.52  \n",
       "1        28748             98.8702       0.9957                         0.04  \n",
       "2      2381741             18.8531       1.0164                         0.56  \n",
       "3          199            222.4774       0.9831                         0.00  \n",
       "4          468            170.5641       1.0100                         0.00  \n",
       "\n",
       "[5 rows x 17 columns]"
      ]
     },
     "execution_count": 116,
     "metadata": {},
     "output_type": "execute_result"
    }
   ],
   "source": [
    "df4.head()"
   ]
  },
  {
   "cell_type": "code",
   "execution_count": 118,
   "id": "d7ef6e02-9f6d-4fbb-9e85-598d76fae7bd",
   "metadata": {},
   "outputs": [
    {
     "data": {
      "text/html": [
       "<div>\n",
       "<style scoped>\n",
       "    .dataframe tbody tr th:only-of-type {\n",
       "        vertical-align: middle;\n",
       "    }\n",
       "\n",
       "    .dataframe tbody tr th {\n",
       "        vertical-align: top;\n",
       "    }\n",
       "\n",
       "    .dataframe thead th {\n",
       "        text-align: right;\n",
       "    }\n",
       "</style>\n",
       "<table border=\"1\" class=\"dataframe\">\n",
       "  <thead>\n",
       "    <tr style=\"text-align: right;\">\n",
       "      <th></th>\n",
       "      <th>Rank</th>\n",
       "      <th>CCA3</th>\n",
       "      <th>Country</th>\n",
       "      <th>Capital</th>\n",
       "    </tr>\n",
       "  </thead>\n",
       "  <tbody>\n",
       "    <tr>\n",
       "      <th>227</th>\n",
       "      <td>51</td>\n",
       "      <td>VEN</td>\n",
       "      <td>Venezuela</td>\n",
       "      <td>Caracas</td>\n",
       "    </tr>\n",
       "    <tr>\n",
       "      <th>228</th>\n",
       "      <td>16</td>\n",
       "      <td>VNM</td>\n",
       "      <td>Vietnam</td>\n",
       "      <td>Hanoi</td>\n",
       "    </tr>\n",
       "    <tr>\n",
       "      <th>229</th>\n",
       "      <td>226</td>\n",
       "      <td>WLF</td>\n",
       "      <td>Wallis and Futuna</td>\n",
       "      <td>Mata-Utu</td>\n",
       "    </tr>\n",
       "    <tr>\n",
       "      <th>230</th>\n",
       "      <td>172</td>\n",
       "      <td>ESH</td>\n",
       "      <td>Western Sahara</td>\n",
       "      <td>El AaiÃºn</td>\n",
       "    </tr>\n",
       "    <tr>\n",
       "      <th>231</th>\n",
       "      <td>46</td>\n",
       "      <td>YEM</td>\n",
       "      <td>Yemen</td>\n",
       "      <td>Sanaa</td>\n",
       "    </tr>\n",
       "    <tr>\n",
       "      <th>232</th>\n",
       "      <td>63</td>\n",
       "      <td>ZMB</td>\n",
       "      <td>Zambia</td>\n",
       "      <td>Lusaka</td>\n",
       "    </tr>\n",
       "    <tr>\n",
       "      <th>233</th>\n",
       "      <td>74</td>\n",
       "      <td>ZWE</td>\n",
       "      <td>Zimbabwe</td>\n",
       "      <td>Harare</td>\n",
       "    </tr>\n",
       "  </tbody>\n",
       "</table>\n",
       "</div>"
      ],
      "text/plain": [
       "     Rank CCA3            Country    Capital\n",
       "227    51  VEN          Venezuela    Caracas\n",
       "228    16  VNM            Vietnam      Hanoi\n",
       "229   226  WLF  Wallis and Futuna   Mata-Utu\n",
       "230   172  ESH     Western Sahara  El AaiÃºn\n",
       "231    46  YEM              Yemen      Sanaa\n",
       "232    63  ZMB             Zambia     Lusaka\n",
       "233    74  ZWE           Zimbabwe     Harare"
      ]
     },
     "execution_count": 118,
     "metadata": {},
     "output_type": "execute_result"
    }
   ],
   "source": [
    "df5.tail(7)"
   ]
  },
  {
   "cell_type": "code",
   "execution_count": 120,
   "id": "12492afa-4351-41e3-95fd-6e9922d276ec",
   "metadata": {},
   "outputs": [
    {
     "data": {
      "text/plain": [
       "Rank               43\n",
       "CCA3              UZB\n",
       "Country    Uzbekistan\n",
       "Capital      Tashkent\n",
       "Name: 224, dtype: object"
      ]
     },
     "execution_count": 120,
     "metadata": {},
     "output_type": "execute_result"
    }
   ],
   "source": [
    "df5.loc[224]"
   ]
  },
  {
   "cell_type": "code",
   "execution_count": 122,
   "id": "95f06e65-9656-4899-b742-a07ab70026c8",
   "metadata": {},
   "outputs": [
    {
     "data": {
      "text/plain": [
       "Rank                   21\n",
       "CCA3                  GBR\n",
       "Country    United Kingdom\n",
       "Capital            London\n",
       "Name: 220, dtype: object"
      ]
     },
     "execution_count": 122,
     "metadata": {},
     "output_type": "execute_result"
    }
   ],
   "source": [
    "df5.iloc[220]"
   ]
  }
 ],
 "metadata": {
  "kernelspec": {
   "display_name": "Python [conda env:base] *",
   "language": "python",
   "name": "conda-base-py"
  },
  "language_info": {
   "codemirror_mode": {
    "name": "ipython",
    "version": 3
   },
   "file_extension": ".py",
   "mimetype": "text/x-python",
   "name": "python",
   "nbconvert_exporter": "python",
   "pygments_lexer": "ipython3",
   "version": "3.12.7"
  }
 },
 "nbformat": 4,
 "nbformat_minor": 5
}
