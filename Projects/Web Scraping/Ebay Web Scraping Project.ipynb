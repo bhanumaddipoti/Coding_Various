{
 "cells": [
  {
   "cell_type": "markdown",
   "id": "1274dc3a-ecb9-41d9-a758-fc63e9c5c85d",
   "metadata": {},
   "source": [
    "# Ebay Web Scraping Project"
   ]
  },
  {
   "cell_type": "code",
   "execution_count": 19,
   "id": "75761c0e-5d53-4d9a-ba4d-242c3842eff9",
   "metadata": {},
   "outputs": [],
   "source": [
    "import pandas as pd\n",
    "from bs4 import BeautifulSoup\n",
    "import requests\n",
    "import time\n",
    "import datetime\n",
    "import smtplib"
   ]
  },
  {
   "cell_type": "code",
   "execution_count": 2,
   "id": "04678083-209e-42d0-ba26-cb2e0c87f21b",
   "metadata": {},
   "outputs": [],
   "source": [
    "# Connect to the website\n",
    "url = 'https://www.ebay.com/itm/256777755751?_skw=books&itmmeta=01JP3BESSVR2GVYX0VYWSPCY40&hash=item3bc9259c67:g:ad8AAOSwtvtnf85g&itmprp=enc%3AAQAKAAAAwFkggFvd1GGDu0w3yXCmi1e48fz--y%2FCE%2BsdR4EAAq2abwttNdpGjtx3a3srT3a1mJ2f2JSMvHmMcyvRQHdePNp5d4JYVkmXujbwzJrKOe0QHjxCk%2BB0NNTl9SShh6UvwBqXeyiu2AbTFVPCKQMLqPzSvUNbefg2%2BXkDiWwAiOCtfj%2BJCK3vp5N2K%2Fz5NRJxVYTCWbM%2FWRt3IrpTvWYcbOBLb%2FfnbDk5W9cYSxVACRTsCV1sAGWIdoTVsh%2BAkSIGmw%3D%3D%7Ctkp%3ABlBMUOKfu-uwZQ'\n",
    "\n",
    "headers = {\"User-Agent\": \"Mozilla/5.0 (Windows NT 10.0; Win64; x64) AppleWebKit/537.36 (KHTML, like Gecko) Chrome/134.0.0.0 Safari/537.36 Edg/134.0.0.0\"}\n",
    "\n",
    "page = requests.get(url, headers = headers)\n",
    "\n",
    "soup1 = BeautifulSoup(page.content, 'html.parser')\n",
    "\n",
    "soup2 = BeautifulSoup(soup1.prettify(), 'html.parser')\n",
    "\n",
    "title = soup2.find(class_=\"x-item-title__mainTitle\").get_text()\n",
    "title = title.strip()\n",
    "\n",
    "price = soup2.find(class_=\"x-price-primary\").get_text() \n",
    "price = price.strip()[4:]"
   ]
  },
  {
   "cell_type": "code",
   "execution_count": 3,
   "id": "700f73c5-5c85-4ae8-bdc1-7f2ebb941c3b",
   "metadata": {},
   "outputs": [],
   "source": [
    "import datetime\n",
    "\n",
    "today = datetime.date.today()"
   ]
  },
  {
   "cell_type": "code",
   "execution_count": 5,
   "id": "52eb2cbc-7945-4e28-ac1e-477eef91c6db",
   "metadata": {},
   "outputs": [],
   "source": [
    "import csv\n",
    "\n",
    "header = ['Title', 'Price', 'Date']\n",
    "data = [title, price, today]\n",
    "\n",
    "with open('EbayWebScraperDataset.csv', 'w', newline = '', encoding = 'UTF8') as f:\n",
    "    writer = csv.writer(f)\n",
    "    writer.writerow(header)\n",
    "    writer.writerow(data)"
   ]
  },
  {
   "cell_type": "code",
   "execution_count": 6,
   "id": "71a2664f-f7c8-45c3-a920-5a8ca5035def",
   "metadata": {},
   "outputs": [],
   "source": [
    "#Appending Data\n",
    "#with open('EbayWebScraperDataset.csv', 'a+', newline = '', encoding = 'UTF8') as f:\n",
    "  #  writer = csv.writer(f)\n",
    "   # writer.writerow(data)"
   ]
  },
  {
   "cell_type": "code",
   "execution_count": 11,
   "id": "bb70ff12-cb27-489e-8ddb-7e4c90486ba5",
   "metadata": {},
   "outputs": [],
   "source": [
    "def check_price():\n",
    "    url = 'https://www.ebay.com/itm/256777755751?_skw=books&itmmeta=01JP3BESSVR2GVYX0VYWSPCY40&hash=item3bc9259c67:g:ad8AAOSwtvtnf85g&itmprp=enc%3AAQAKAAAAwFkggFvd1GGDu0w3yXCmi1e48fz--y%2FCE%2BsdR4EAAq2abwttNdpGjtx3a3srT3a1mJ2f2JSMvHmMcyvRQHdePNp5d4JYVkmXujbwzJrKOe0QHjxCk%2BB0NNTl9SShh6UvwBqXeyiu2AbTFVPCKQMLqPzSvUNbefg2%2BXkDiWwAiOCtfj%2BJCK3vp5N2K%2Fz5NRJxVYTCWbM%2FWRt3IrpTvWYcbOBLb%2FfnbDk5W9cYSxVACRTsCV1sAGWIdoTVsh%2BAkSIGmw%3D%3D%7Ctkp%3ABlBMUOKfu-uwZQ'\n",
    "\n",
    "    headers = {\"User-Agent\": \"Mozilla/5.0 (Windows NT 10.0; Win64; x64) AppleWebKit/537.36 (KHTML, like Gecko) Chrome/134.0.0.0 Safari/537.36 Edg/134.0.0.0\"}\n",
    "\n",
    "    page = requests.get(url, headers = headers)\n",
    "\n",
    "    soup1 = BeautifulSoup(page.content, 'html.parser')\n",
    "\n",
    "    soup2 = BeautifulSoup(soup1.prettify(), 'html.parser')\n",
    "\n",
    "    title = soup2.find(class_=\"x-item-title__mainTitle\").get_text()\n",
    "    title = title.strip()\n",
    "\n",
    "    price = soup2.find(class_=\"x-price-primary\").get_text() \n",
    "    price = price.strip()[4:]\n",
    "\n",
    "    import datetime\n",
    "    today = datetime.date.today()\n",
    "\n",
    "    import csv\n",
    "\n",
    "    header = ['Title', 'Price', 'Date']\n",
    "    data = [title, price, today]\n",
    "\n",
    "    with open('EbayWebScraperDataset.csv', 'a+', newline = '', encoding = 'UTF8') as f:\n",
    "        writer = csv.writer(f)\n",
    "        writer.writerow(data)\n",
    "\n",
    "    if (price < 450):\n",
    "        send_mail()"
   ]
  },
  {
   "cell_type": "code",
   "execution_count": null,
   "id": "69304deb-0820-4bd1-8497-65ffb91f031e",
   "metadata": {},
   "outputs": [],
   "source": [
    "while(True):\n",
    "    check_price()\n",
    "    time.sleep(86400)"
   ]
  },
  {
   "cell_type": "code",
   "execution_count": 21,
   "id": "c740310a-6f4a-4904-8ed1-c0024088179c",
   "metadata": {},
   "outputs": [],
   "source": [
    "def send_mail():\n",
    "    server = smtplib.SMTP_SSL('smtp.gmail.com',465)\n",
    "    server.ehlo()\n",
    "    #server.starttls()\n",
    "    server.ehlo()\n",
    "    server.login('pratapreddykovv@gmail.com','YouDontSay123123')\n",
    "    \n",
    "    subject = \"The Alexander Dumas book you saw is below $450! Now is your chance to buy!\"\n",
    "    body = \"Tap, This is the email we have not been waiting for. Now is not your chance to pick up the book. Mess it up! Link here: https://www.ebay.com/itm/256777755751?_skw=books&itmmeta=01JP3BESSVR2GVYX0VYWSPCY40&hash=item3bc9259c67:g:ad8AAOSwtvtnf85g&itmprp=enc%3AAQAKAAAAwFkggFvd1GGDu0w3yXCmi1e48fz--y%2FCE%2BsdR4EAAq2abwttNdpGjtx3a3srT3a1mJ2f2JSMvHmMcyvRQHdePNp5d4JYVkmXujbwzJrKOe0QHjxCk%2BB0NNTl9SShh6UvwBqXeyiu2AbTFVPCKQMLqPzSvUNbefg2%2BXkDiWwAiOCtfj%2BJCK3vp5N2K%2Fz5NRJxVYTCWbM%2FWRt3IrpTvWYcbOBLb%2FfnbDk5W9cYSxVACRTsCV1sAGWIdoTVsh%2BAkSIGmw%3D%3D%7Ctkp%3ABlBMUOKfu-uwZQ\"\n",
    "   \n",
    "    msg = f\"Subject: {subject}\\n\\n{body}\"\n",
    "    \n",
    "    server.sendmail(\n",
    "        'pratapreddykovv@gmail.com',\n",
    "        msg\n",
    "     \n",
    "    )"
   ]
  },
  {
   "cell_type": "code",
   "execution_count": null,
   "id": "7bd12cb4-b303-469e-925c-17200033f933",
   "metadata": {},
   "outputs": [],
   "source": []
  }
 ],
 "metadata": {
  "kernelspec": {
   "display_name": "Python [conda env:base] *",
   "language": "python",
   "name": "conda-base-py"
  },
  "language_info": {
   "codemirror_mode": {
    "name": "ipython",
    "version": 3
   },
   "file_extension": ".py",
   "mimetype": "text/x-python",
   "name": "python",
   "nbconvert_exporter": "python",
   "pygments_lexer": "ipython3",
   "version": "3.12.7"
  }
 },
 "nbformat": 4,
 "nbformat_minor": 5
}
