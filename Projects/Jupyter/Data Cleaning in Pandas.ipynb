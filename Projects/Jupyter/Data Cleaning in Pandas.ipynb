{
 "cells": [
  {
   "cell_type": "markdown",
   "id": "6c80fcd5-b99f-4257-b08a-4daead25a636",
   "metadata": {},
   "source": [
    "# Data Cleaning in Pandas"
   ]
  },
  {
   "cell_type": "code",
   "execution_count": 141,
   "id": "c8f20447-37ad-4827-8053-c5169c4fb3cf",
   "metadata": {},
   "outputs": [],
   "source": [
    "import pandas as pd"
   ]
  },
  {
   "cell_type": "code",
   "execution_count": 143,
   "id": "bc4eabd4-d64f-4808-be2b-8d90df0364ba",
   "metadata": {},
   "outputs": [],
   "source": [
    "df1 = pd.read_excel (r\"C:\\Users\\bhanu\\iCloudDrive\\Documents\\Alex the Analyst Course\\Pandas\\Data\\Customer Call List.xlsx\")"
   ]
  },
  {
   "cell_type": "code",
   "execution_count": 145,
   "id": "0b0c9d56-943e-4bda-b992-9cc21267cdae",
   "metadata": {},
   "outputs": [],
   "source": [
    "df1.drop_duplicates(inplace = True)"
   ]
  },
  {
   "cell_type": "code",
   "execution_count": 173,
   "id": "9175620a-0df7-49af-97a0-fb29d4b0a50f",
   "metadata": {},
   "outputs": [],
   "source": [
    "df1.drop (columns = 'Not_Useful_Column', inplace = True)"
   ]
  },
  {
   "cell_type": "code",
   "execution_count": 147,
   "id": "c0b366d8-0a84-4b8e-97b1-dc973a262c9d",
   "metadata": {},
   "outputs": [],
   "source": [
    "df1['Last_Name'] = df1['Last_Name'].str.lstrip(\"...\")\n",
    "df1['Last_Name'] = df1['Last_Name'].str.lstrip(\"/\")\n",
    "df1['Last_Name'] = df1['Last_Name'].str.rstrip(\"_\")"
   ]
  },
  {
   "cell_type": "code",
   "execution_count": 149,
   "id": "4d95faa5-bc2f-4b32-9a8e-50d519509f68",
   "metadata": {},
   "outputs": [],
   "source": [
    "df1['Last_Name'] = df1['Last_Name'].str.strip(\"123._/(\")  # This Simple Code can be used instead of the previous Code!"
   ]
  },
  {
   "cell_type": "code",
   "execution_count": 151,
   "id": "554b180f-8475-4eae-9f50-ee33174e8cd0",
   "metadata": {},
   "outputs": [],
   "source": [
    "df1[\"Phone_Number\"] = df1[\"Phone_Number\"].str.replace('[^a-zA-Z0-9]','', regex = True)"
   ]
  },
  {
   "cell_type": "code",
   "execution_count": 153,
   "id": "7673b43f-9e59-456c-bd3e-b557d65be873",
   "metadata": {},
   "outputs": [],
   "source": [
    "df1[\"Phone_Number\"] = df1[\"Phone_Number\"].apply(lambda x: str(x))"
   ]
  },
  {
   "cell_type": "code",
   "execution_count": 155,
   "id": "42b623b2-fc59-4648-b8f2-735212e7b090",
   "metadata": {},
   "outputs": [],
   "source": [
    "df1[\"Phone_Number\"] = df1[\"Phone_Number\"].apply(lambda x: x[0:3] + '-' + x[3:6] + '-' + x[6:10])"
   ]
  },
  {
   "cell_type": "code",
   "execution_count": 157,
   "id": "fcfe73b0-83db-4b61-beaf-8e894e5a321f",
   "metadata": {},
   "outputs": [],
   "source": [
    "df1[\"Phone_Number\"] = df1[\"Phone_Number\"].str.replace('nan--','')\n",
    "df1[\"Phone_Number\"] = df1[\"Phone_Number\"].str.replace('Na--','')"
   ]
  },
  {
   "cell_type": "code",
   "execution_count": 159,
   "id": "961d1690-9adc-49a8-a2cf-3d320f6b374c",
   "metadata": {},
   "outputs": [],
   "source": [
    "df1[[\"Street_Address\", \"State/County\", \"Zipcode\"]] = df1[\"Address\"].str.split(',',n = 2, expand = True)"
   ]
  },
  {
   "cell_type": "code",
   "execution_count": 161,
   "id": "84a3b2ad-e76c-42ec-8cef-22c286b61962",
   "metadata": {},
   "outputs": [],
   "source": [
    "df1[\"Paying Customer\"] = df1[\"Paying Customer\"].str.replace('Yes','Y')\n",
    "df1[\"Paying Customer\"] = df1[\"Paying Customer\"].str.replace('No','N')"
   ]
  },
  {
   "cell_type": "code",
   "execution_count": 163,
   "id": "3a781ea6-2d8f-4a6e-b005-92fb339a325a",
   "metadata": {},
   "outputs": [],
   "source": [
    "df1[\"Do_Not_Contact\"] = df1[\"Do_Not_Contact\"].str.replace('Yes','Y')\n",
    "df1[\"Do_Not_Contact\"] = df1[\"Do_Not_Contact\"].str.replace('No','N')"
   ]
  },
  {
   "cell_type": "code",
   "execution_count": 165,
   "id": "d2b70e23-0470-4719-8e8d-f97b46657c69",
   "metadata": {},
   "outputs": [],
   "source": [
    "df1 = df1.replace('N/a','')"
   ]
  },
  {
   "cell_type": "code",
   "execution_count": 167,
   "id": "aedf1599-5b5b-4af6-8cc8-8a199d9c4264",
   "metadata": {},
   "outputs": [],
   "source": [
    "df1 = df1.fillna('')"
   ]
  },
  {
   "cell_type": "code",
   "execution_count": 169,
   "id": "b4c15976-a90c-4785-9a17-cc6fa5b0d835",
   "metadata": {},
   "outputs": [],
   "source": [
    "for x in df1.index:\n",
    "    if df1.loc[x, \"Do_Not_Contact\"] == 'Y':\n",
    "        df1.drop(x, inplace = True)"
   ]
  },
  {
   "cell_type": "code",
   "execution_count": 200,
   "id": "5a376d7d-e016-4335-be7e-6d2b8ca7eb27",
   "metadata": {},
   "outputs": [],
   "source": [
    "for x in df1.index:\n",
    "    if df1.loc[x, \"Phone_Number\"] == '':\n",
    "        df1.drop(x, inplace = True)\n",
    "# Could also be writen as df1.dropna"
   ]
  },
  {
   "cell_type": "code",
   "execution_count": 193,
   "id": "1534e11f-9a28-4508-9fa7-389ced6d455a",
   "metadata": {},
   "outputs": [],
   "source": [
    "df1.reset_index(drop = True, inplace = True)"
   ]
  },
  {
   "cell_type": "code",
   "execution_count": 202,
   "id": "a46cafea-be56-4c08-aad2-ed1f69cac623",
   "metadata": {},
   "outputs": [],
   "source": [
    "df1.drop (columns = 'Zipcode', inplace = True)"
   ]
  },
  {
   "cell_type": "code",
   "execution_count": 204,
   "id": "13bd3ad2-f85c-444a-b9eb-c8e316d45584",
   "metadata": {},
   "outputs": [
    {
     "data": {
      "text/html": [
       "<div>\n",
       "<style scoped>\n",
       "    .dataframe tbody tr th:only-of-type {\n",
       "        vertical-align: middle;\n",
       "    }\n",
       "\n",
       "    .dataframe tbody tr th {\n",
       "        vertical-align: top;\n",
       "    }\n",
       "\n",
       "    .dataframe thead th {\n",
       "        text-align: right;\n",
       "    }\n",
       "</style>\n",
       "<table border=\"1\" class=\"dataframe\">\n",
       "  <thead>\n",
       "    <tr style=\"text-align: right;\">\n",
       "      <th></th>\n",
       "      <th>CustomerID</th>\n",
       "      <th>First_Name</th>\n",
       "      <th>Last_Name</th>\n",
       "      <th>Phone_Number</th>\n",
       "      <th>Address</th>\n",
       "      <th>Paying Customer</th>\n",
       "      <th>Do_Not_Contact</th>\n",
       "      <th>Street_Address</th>\n",
       "      <th>State/County</th>\n",
       "    </tr>\n",
       "  </thead>\n",
       "  <tbody>\n",
       "    <tr>\n",
       "      <th>0</th>\n",
       "      <td>1001</td>\n",
       "      <td>Frodo</td>\n",
       "      <td>Baggins</td>\n",
       "      <td>123-545-5421</td>\n",
       "      <td>123 Shire Lane, Shire</td>\n",
       "      <td>Y</td>\n",
       "      <td>N</td>\n",
       "      <td>123 Shire Lane</td>\n",
       "      <td>Shire</td>\n",
       "    </tr>\n",
       "    <tr>\n",
       "      <th>1</th>\n",
       "      <td>1005</td>\n",
       "      <td>Jon</td>\n",
       "      <td>Snow</td>\n",
       "      <td>876-678-3469</td>\n",
       "      <td>123 Dragons Road</td>\n",
       "      <td>Y</td>\n",
       "      <td>N</td>\n",
       "      <td>123 Dragons Road</td>\n",
       "      <td></td>\n",
       "    </tr>\n",
       "    <tr>\n",
       "      <th>2</th>\n",
       "      <td>1008</td>\n",
       "      <td>Sherlock</td>\n",
       "      <td>Holmes</td>\n",
       "      <td>876-678-3469</td>\n",
       "      <td>98 Clue Drive</td>\n",
       "      <td>N</td>\n",
       "      <td>N</td>\n",
       "      <td>98 Clue Drive</td>\n",
       "      <td></td>\n",
       "    </tr>\n",
       "    <tr>\n",
       "      <th>3</th>\n",
       "      <td>1010</td>\n",
       "      <td>Peter</td>\n",
       "      <td>Parker</td>\n",
       "      <td>123-545-5421</td>\n",
       "      <td>25th Main Street, New York</td>\n",
       "      <td>Y</td>\n",
       "      <td>N</td>\n",
       "      <td>25th Main Street</td>\n",
       "      <td>New York</td>\n",
       "    </tr>\n",
       "    <tr>\n",
       "      <th>4</th>\n",
       "      <td>1013</td>\n",
       "      <td>Don</td>\n",
       "      <td>Draper</td>\n",
       "      <td>123-543-2345</td>\n",
       "      <td>2039 Main Street</td>\n",
       "      <td>Y</td>\n",
       "      <td>N</td>\n",
       "      <td>2039 Main Street</td>\n",
       "      <td></td>\n",
       "    </tr>\n",
       "    <tr>\n",
       "      <th>5</th>\n",
       "      <td>1014</td>\n",
       "      <td>Leslie</td>\n",
       "      <td>Knope</td>\n",
       "      <td>876-678-3469</td>\n",
       "      <td>343 City Parkway</td>\n",
       "      <td>Y</td>\n",
       "      <td>N</td>\n",
       "      <td>343 City Parkway</td>\n",
       "      <td></td>\n",
       "    </tr>\n",
       "    <tr>\n",
       "      <th>6</th>\n",
       "      <td>1015</td>\n",
       "      <td>Toby</td>\n",
       "      <td>Flenderson</td>\n",
       "      <td>304-762-2467</td>\n",
       "      <td>214 HR Avenue</td>\n",
       "      <td>N</td>\n",
       "      <td>N</td>\n",
       "      <td>214 HR Avenue</td>\n",
       "      <td></td>\n",
       "    </tr>\n",
       "    <tr>\n",
       "      <th>7</th>\n",
       "      <td>1016</td>\n",
       "      <td>Ron</td>\n",
       "      <td>Weasley</td>\n",
       "      <td>123-545-5421</td>\n",
       "      <td>2395 Hogwarts Avenue</td>\n",
       "      <td>N</td>\n",
       "      <td>N</td>\n",
       "      <td>2395 Hogwarts Avenue</td>\n",
       "      <td></td>\n",
       "    </tr>\n",
       "    <tr>\n",
       "      <th>8</th>\n",
       "      <td>1017</td>\n",
       "      <td>Michael</td>\n",
       "      <td>Scott</td>\n",
       "      <td>123-643-9775</td>\n",
       "      <td>121 Paper Avenue, Pennsylvania</td>\n",
       "      <td>Y</td>\n",
       "      <td>N</td>\n",
       "      <td>121 Paper Avenue</td>\n",
       "      <td>Pennsylvania</td>\n",
       "    </tr>\n",
       "    <tr>\n",
       "      <th>9</th>\n",
       "      <td>1020</td>\n",
       "      <td>Anakin</td>\n",
       "      <td>Skywalker</td>\n",
       "      <td>876-678-3469</td>\n",
       "      <td>910 Tatooine Road, Tatooine</td>\n",
       "      <td>Y</td>\n",
       "      <td>N</td>\n",
       "      <td>910 Tatooine Road</td>\n",
       "      <td>Tatooine</td>\n",
       "    </tr>\n",
       "  </tbody>\n",
       "</table>\n",
       "</div>"
      ],
      "text/plain": [
       "   CustomerID First_Name   Last_Name  Phone_Number  \\\n",
       "0        1001      Frodo     Baggins  123-545-5421   \n",
       "1        1005        Jon        Snow  876-678-3469   \n",
       "2        1008   Sherlock      Holmes  876-678-3469   \n",
       "3        1010      Peter      Parker  123-545-5421   \n",
       "4        1013        Don      Draper  123-543-2345   \n",
       "5        1014     Leslie       Knope  876-678-3469   \n",
       "6        1015       Toby  Flenderson  304-762-2467   \n",
       "7        1016        Ron     Weasley  123-545-5421   \n",
       "8        1017   Michael        Scott  123-643-9775   \n",
       "9        1020     Anakin   Skywalker  876-678-3469   \n",
       "\n",
       "                          Address Paying Customer Do_Not_Contact  \\\n",
       "0           123 Shire Lane, Shire               Y              N   \n",
       "1                123 Dragons Road               Y              N   \n",
       "2                   98 Clue Drive               N              N   \n",
       "3      25th Main Street, New York               Y              N   \n",
       "4                2039 Main Street               Y              N   \n",
       "5                343 City Parkway               Y              N   \n",
       "6                   214 HR Avenue               N              N   \n",
       "7            2395 Hogwarts Avenue               N              N   \n",
       "8  121 Paper Avenue, Pennsylvania               Y              N   \n",
       "9     910 Tatooine Road, Tatooine               Y              N   \n",
       "\n",
       "         Street_Address   State/County  \n",
       "0        123 Shire Lane          Shire  \n",
       "1      123 Dragons Road                 \n",
       "2         98 Clue Drive                 \n",
       "3      25th Main Street       New York  \n",
       "4      2039 Main Street                 \n",
       "5      343 City Parkway                 \n",
       "6         214 HR Avenue                 \n",
       "7  2395 Hogwarts Avenue                 \n",
       "8      121 Paper Avenue   Pennsylvania  \n",
       "9     910 Tatooine Road       Tatooine  "
      ]
     },
     "execution_count": 204,
     "metadata": {},
     "output_type": "execute_result"
    }
   ],
   "source": [
    "df1"
   ]
  }
 ],
 "metadata": {
  "kernelspec": {
   "display_name": "Python [conda env:base] *",
   "language": "python",
   "name": "conda-base-py"
  },
  "language_info": {
   "codemirror_mode": {
    "name": "ipython",
    "version": 3
   },
   "file_extension": ".py",
   "mimetype": "text/x-python",
   "name": "python",
   "nbconvert_exporter": "python",
   "pygments_lexer": "ipython3",
   "version": "3.12.7"
  }
 },
 "nbformat": 4,
 "nbformat_minor": 5
}
