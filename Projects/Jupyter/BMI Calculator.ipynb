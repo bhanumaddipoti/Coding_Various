{
 "cells": [
  {
   "cell_type": "markdown",
   "id": "3fccb04d-5d10-43c5-9687-2357a0f98f93",
   "metadata": {},
   "source": [
    "# BMI Calculator"
   ]
  },
  {
   "cell_type": "markdown",
   "id": "6b1b297e-bf60-490b-8893-3aba94d9562b",
   "metadata": {},
   "source": [
    "https://mercer-health.com/services/weight-management-center/bmi-calculator#:~:text=Body%20Mass%20Index%2C%20or%20BMI,inches%20x%20height%20in%20inches"
   ]
  },
  {
   "cell_type": "code",
   "execution_count": 43,
   "id": "c5d65aef-07cc-40a1-9cc9-dc89db8a032d",
   "metadata": {},
   "outputs": [
    {
     "name": "stdin",
     "output_type": "stream",
     "text": [
      "Enter your name >  Sai\n",
      "Enter your weight in lbs >  180\n",
      "Enter your height in inches >  71\n"
     ]
    },
    {
     "name": "stdout",
     "output_type": "stream",
     "text": [
      "Hey Sai, your BMI is 25.102162269390995, so you are overweight.\n"
     ]
    }
   ],
   "source": [
    "name = input(\"Enter your name > \")\n",
    "weight = int(input(\"Enter your weight in lbs > \"))\n",
    "height = int(input(\"Enter your height in inches > \"))\n",
    "bmi = (weight*703) / (height*height)\n",
    "\n",
    "if bmi>0:\n",
    "    if(bmi<=18.5):\n",
    "        print(\"Hey \" + name + \", your BMI is \" + str(bmi) +\", so you are underweight.\")\n",
    "    elif (bmi<=24.9):\n",
    "        print(\"Hey \" + name + \", your BMI is \" + str(bmi) +\", so you are normal weight.\")\n",
    "    elif (bmi<=29.9):\n",
    "        print(\"Hey \" + name + \", your BMI is \" + str(bmi) +\", so you are overweight.\")\n",
    "    elif (bmi<=34.9):\n",
    "        print(\"Hey \" + name + \", your BMI is \" + str(bmi) +\", so you are obese.\")\n",
    "    elif (bmi<=39.9):\n",
    "        print(\"Hey \" + name + \", your BMI is \" + str(bmi) +\", so you are severely obese.\")\n",
    "    elif (bmi<=49.9):\n",
    "        print(\"Hey \" + name + \", your BMI is \" + str(bmi) +\", so you are morbidly obese.\")\n",
    "    else:\n",
    "        print(\"Hey \" + name + \", your BMI is \" + str(bmi) +\", It's a lost cause!, why even bother?!\")\n",
    "else:\n",
    "    print(\"Enter valid input\")"
   ]
  },
  {
   "cell_type": "code",
   "execution_count": null,
   "id": "addc77da-a4bb-4ef0-b73d-960b5ef705e7",
   "metadata": {},
   "outputs": [],
   "source": []
  }
 ],
 "metadata": {
  "kernelspec": {
   "display_name": "Python [conda env:base] *",
   "language": "python",
   "name": "conda-base-py"
  },
  "language_info": {
   "codemirror_mode": {
    "name": "ipython",
    "version": 3
   },
   "file_extension": ".py",
   "mimetype": "text/x-python",
   "name": "python",
   "nbconvert_exporter": "python",
   "pygments_lexer": "ipython3",
   "version": "3.12.7"
  }
 },
 "nbformat": 4,
 "nbformat_minor": 5
}
